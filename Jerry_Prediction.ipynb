{
 "cells": [
  {
   "cell_type": "markdown",
   "id": "cc715101",
   "metadata": {},
   "source": [
    "# Importing Libaries"
   ]
  },
  {
   "cell_type": "code",
   "execution_count": 18,
   "id": "ef781bf7",
   "metadata": {},
   "outputs": [],
   "source": [
    "import pandas as pd\n",
    "import numpy as np\n",
    "import seaborn as sns\n",
    "import matplotlib.pyplot as plt\n",
    "from zipfile import ZipFile\n",
    "\n",
    "from sklearn.model_selection import train_test_split\n",
    "from sklearn.linear_model import LinearRegression\n",
    "from sklearn.metrics import mean_squared_error\n",
    "from sklearn.preprocessing import StandardScaler"
   ]
  },
  {
   "cell_type": "markdown",
   "id": "c280930e",
   "metadata": {},
   "source": [
    "# Un-Zip and Reading what's within the zip"
   ]
  },
  {
   "cell_type": "code",
   "execution_count": 19,
   "id": "5480d3b6",
   "metadata": {},
   "outputs": [
    {
     "name": "stdout",
     "output_type": "stream",
     "text": [
      "['sample_submission.zip', 'test.zip', 'train.zip']\n"
     ]
    }
   ],
   "source": [
    "with ZipFile('nyc-taxi-trip-duration.zip', 'r') as f:\n",
    "    f.extractall()\n",
    "    \n",
    "#Confirming the 3 files required for the dataset\n",
    "print(f.namelist())"
   ]
  },
  {
   "cell_type": "markdown",
   "id": "5e4c029a",
   "metadata": {},
   "source": [
    "# Reading the test and train, checking contents"
   ]
  },
  {
   "cell_type": "code",
   "execution_count": 31,
   "id": "7962677c",
   "metadata": {},
   "outputs": [
    {
     "name": "stdout",
     "output_type": "stream",
     "text": [
      "<class 'pandas.core.frame.DataFrame'>\n",
      "RangeIndex: 625134 entries, 0 to 625133\n",
      "Data columns (total 9 columns):\n",
      " #   Column              Non-Null Count   Dtype  \n",
      "---  ------              --------------   -----  \n",
      " 0   id                  625134 non-null  object \n",
      " 1   vendor_id           625134 non-null  int64  \n",
      " 2   pickup_datetime     625134 non-null  object \n",
      " 3   passenger_count     625134 non-null  int64  \n",
      " 4   pickup_longitude    625134 non-null  float64\n",
      " 5   pickup_latitude     625134 non-null  float64\n",
      " 6   dropoff_longitude   625134 non-null  float64\n",
      " 7   dropoff_latitude    625134 non-null  float64\n",
      " 8   store_and_fwd_flag  625134 non-null  object \n",
      "dtypes: float64(4), int64(2), object(3)\n",
      "memory usage: 42.9+ MB\n"
     ]
    }
   ],
   "source": [
    "df_test = pd.read_csv(\"test.zip\")\n",
    "df_train = pd.read_csv(\"train.zip\")\n",
    "\n",
    "df_test.info()\n",
    "var = ['id', 'vendor_id', 'pickup_datetime', 'dropoff_datetime', 'passenger_count', 'pickup_longitude', 'pickup_latitude', 'dropoff_longitude', 'dropoff_latitude', 'store_and_fwd_flag', 'trip_duration', 'diff_latitude', 'diff_longitude']"
   ]
  },
  {
   "cell_type": "markdown",
   "id": "96b6ce8f",
   "metadata": {},
   "source": [
    "# Removing outliers in trip_duration of our data set"
   ]
  },
  {
   "cell_type": "code",
   "execution_count": 21,
   "id": "3aef7375",
   "metadata": {},
   "outputs": [],
   "source": [
    "Q1 = df_train['trip_duration'].quantile(0.25)\n",
    "Q3 = df_train['trip_duration'].quantile(0.75)\n",
    "IQR = Q3 - Q1\n",
    "\n",
    "lower_bound = Q1 - 1.5 * IQR\n",
    "upper_bound = Q3 + 1.5 * IQR\n",
    "\n",
    "df_train_no_outliers = df_train[(df_train['trip_duration'] >= lower_bound) & (df_train['trip_duration'] <= upper_bound)]"
   ]
  },
  {
   "cell_type": "code",
   "execution_count": 24,
   "id": "872e9932",
   "metadata": {},
   "outputs": [
    {
     "data": {
      "text/html": [
       "<div>\n",
       "<style scoped>\n",
       "    .dataframe tbody tr th:only-of-type {\n",
       "        vertical-align: middle;\n",
       "    }\n",
       "\n",
       "    .dataframe tbody tr th {\n",
       "        vertical-align: top;\n",
       "    }\n",
       "\n",
       "    .dataframe thead th {\n",
       "        text-align: right;\n",
       "    }\n",
       "</style>\n",
       "<table border=\"1\" class=\"dataframe\">\n",
       "  <thead>\n",
       "    <tr style=\"text-align: right;\">\n",
       "      <th></th>\n",
       "      <th>id</th>\n",
       "      <th>vendor_id</th>\n",
       "      <th>pickup_datetime</th>\n",
       "      <th>dropoff_datetime</th>\n",
       "      <th>passenger_count</th>\n",
       "      <th>pickup_longitude</th>\n",
       "      <th>pickup_latitude</th>\n",
       "      <th>dropoff_longitude</th>\n",
       "      <th>dropoff_latitude</th>\n",
       "      <th>store_and_fwd_flag</th>\n",
       "      <th>trip_duration</th>\n",
       "    </tr>\n",
       "  </thead>\n",
       "  <tbody>\n",
       "    <tr>\n",
       "      <th>0</th>\n",
       "      <td>id2875421</td>\n",
       "      <td>2</td>\n",
       "      <td>2016-03-14 17:24:55</td>\n",
       "      <td>2016-03-14 17:32:30</td>\n",
       "      <td>1</td>\n",
       "      <td>-73.982155</td>\n",
       "      <td>40.767937</td>\n",
       "      <td>-73.964630</td>\n",
       "      <td>40.765602</td>\n",
       "      <td>N</td>\n",
       "      <td>455</td>\n",
       "    </tr>\n",
       "    <tr>\n",
       "      <th>1</th>\n",
       "      <td>id2377394</td>\n",
       "      <td>1</td>\n",
       "      <td>2016-06-12 00:43:35</td>\n",
       "      <td>2016-06-12 00:54:38</td>\n",
       "      <td>1</td>\n",
       "      <td>-73.980415</td>\n",
       "      <td>40.738564</td>\n",
       "      <td>-73.999481</td>\n",
       "      <td>40.731152</td>\n",
       "      <td>N</td>\n",
       "      <td>663</td>\n",
       "    </tr>\n",
       "    <tr>\n",
       "      <th>2</th>\n",
       "      <td>id3858529</td>\n",
       "      <td>2</td>\n",
       "      <td>2016-01-19 11:35:24</td>\n",
       "      <td>2016-01-19 12:10:48</td>\n",
       "      <td>1</td>\n",
       "      <td>-73.979027</td>\n",
       "      <td>40.763939</td>\n",
       "      <td>-74.005333</td>\n",
       "      <td>40.710087</td>\n",
       "      <td>N</td>\n",
       "      <td>2124</td>\n",
       "    </tr>\n",
       "    <tr>\n",
       "      <th>3</th>\n",
       "      <td>id3504673</td>\n",
       "      <td>2</td>\n",
       "      <td>2016-04-06 19:32:31</td>\n",
       "      <td>2016-04-06 19:39:40</td>\n",
       "      <td>1</td>\n",
       "      <td>-74.010040</td>\n",
       "      <td>40.719971</td>\n",
       "      <td>-74.012268</td>\n",
       "      <td>40.706718</td>\n",
       "      <td>N</td>\n",
       "      <td>429</td>\n",
       "    </tr>\n",
       "    <tr>\n",
       "      <th>4</th>\n",
       "      <td>id2181028</td>\n",
       "      <td>2</td>\n",
       "      <td>2016-03-26 13:30:55</td>\n",
       "      <td>2016-03-26 13:38:10</td>\n",
       "      <td>1</td>\n",
       "      <td>-73.973053</td>\n",
       "      <td>40.793209</td>\n",
       "      <td>-73.972923</td>\n",
       "      <td>40.782520</td>\n",
       "      <td>N</td>\n",
       "      <td>435</td>\n",
       "    </tr>\n",
       "  </tbody>\n",
       "</table>\n",
       "</div>"
      ],
      "text/plain": [
       "          id  vendor_id      pickup_datetime     dropoff_datetime  \\\n",
       "0  id2875421          2  2016-03-14 17:24:55  2016-03-14 17:32:30   \n",
       "1  id2377394          1  2016-06-12 00:43:35  2016-06-12 00:54:38   \n",
       "2  id3858529          2  2016-01-19 11:35:24  2016-01-19 12:10:48   \n",
       "3  id3504673          2  2016-04-06 19:32:31  2016-04-06 19:39:40   \n",
       "4  id2181028          2  2016-03-26 13:30:55  2016-03-26 13:38:10   \n",
       "\n",
       "   passenger_count  pickup_longitude  pickup_latitude  dropoff_longitude  \\\n",
       "0                1        -73.982155        40.767937         -73.964630   \n",
       "1                1        -73.980415        40.738564         -73.999481   \n",
       "2                1        -73.979027        40.763939         -74.005333   \n",
       "3                1        -74.010040        40.719971         -74.012268   \n",
       "4                1        -73.973053        40.793209         -73.972923   \n",
       "\n",
       "   dropoff_latitude store_and_fwd_flag  trip_duration  \n",
       "0         40.765602                  N            455  \n",
       "1         40.731152                  N            663  \n",
       "2         40.710087                  N           2124  \n",
       "3         40.706718                  N            429  \n",
       "4         40.782520                  N            435  "
      ]
     },
     "execution_count": 24,
     "metadata": {},
     "output_type": "execute_result"
    }
   ],
   "source": [
    "df_train.head()"
   ]
  },
  {
   "cell_type": "markdown",
   "id": "d9d22f36",
   "metadata": {},
   "source": [
    "# Seperated the train and test sets, compared the differences in order to see the correlation"
   ]
  },
  {
   "cell_type": "code",
   "execution_count": 32,
   "id": "64a1d342",
   "metadata": {},
   "outputs": [
    {
     "data": {
      "text/html": [
       "<div>\n",
       "<style scoped>\n",
       "    .dataframe tbody tr th:only-of-type {\n",
       "        vertical-align: middle;\n",
       "    }\n",
       "\n",
       "    .dataframe tbody tr th {\n",
       "        vertical-align: top;\n",
       "    }\n",
       "\n",
       "    .dataframe thead th {\n",
       "        text-align: right;\n",
       "    }\n",
       "</style>\n",
       "<table border=\"1\" class=\"dataframe\">\n",
       "  <thead>\n",
       "    <tr style=\"text-align: right;\">\n",
       "      <th></th>\n",
       "      <th>id</th>\n",
       "      <th>vendor_id</th>\n",
       "      <th>pickup_datetime</th>\n",
       "      <th>dropoff_datetime</th>\n",
       "      <th>passenger_count</th>\n",
       "      <th>pickup_longitude</th>\n",
       "      <th>pickup_latitude</th>\n",
       "      <th>dropoff_longitude</th>\n",
       "      <th>dropoff_latitude</th>\n",
       "      <th>store_and_fwd_flag</th>\n",
       "      <th>trip_duration</th>\n",
       "      <th>diff_latitude</th>\n",
       "      <th>diff_longitude</th>\n",
       "    </tr>\n",
       "  </thead>\n",
       "  <tbody>\n",
       "    <tr>\n",
       "      <th>0</th>\n",
       "      <td>id2875421</td>\n",
       "      <td>2</td>\n",
       "      <td>2016-03-14 17:24:55</td>\n",
       "      <td>2016-03-14 17:32:30</td>\n",
       "      <td>1</td>\n",
       "      <td>-73.982155</td>\n",
       "      <td>40.767937</td>\n",
       "      <td>-73.964630</td>\n",
       "      <td>40.765602</td>\n",
       "      <td>N</td>\n",
       "      <td>455</td>\n",
       "      <td>0.002335</td>\n",
       "      <td>0.017525</td>\n",
       "    </tr>\n",
       "    <tr>\n",
       "      <th>1</th>\n",
       "      <td>id2377394</td>\n",
       "      <td>1</td>\n",
       "      <td>2016-06-12 00:43:35</td>\n",
       "      <td>2016-06-12 00:54:38</td>\n",
       "      <td>1</td>\n",
       "      <td>-73.980415</td>\n",
       "      <td>40.738564</td>\n",
       "      <td>-73.999481</td>\n",
       "      <td>40.731152</td>\n",
       "      <td>N</td>\n",
       "      <td>663</td>\n",
       "      <td>0.007412</td>\n",
       "      <td>0.019066</td>\n",
       "    </tr>\n",
       "    <tr>\n",
       "      <th>2</th>\n",
       "      <td>id3858529</td>\n",
       "      <td>2</td>\n",
       "      <td>2016-01-19 11:35:24</td>\n",
       "      <td>2016-01-19 12:10:48</td>\n",
       "      <td>1</td>\n",
       "      <td>-73.979027</td>\n",
       "      <td>40.763939</td>\n",
       "      <td>-74.005333</td>\n",
       "      <td>40.710087</td>\n",
       "      <td>N</td>\n",
       "      <td>2124</td>\n",
       "      <td>0.053852</td>\n",
       "      <td>0.026306</td>\n",
       "    </tr>\n",
       "    <tr>\n",
       "      <th>3</th>\n",
       "      <td>id3504673</td>\n",
       "      <td>2</td>\n",
       "      <td>2016-04-06 19:32:31</td>\n",
       "      <td>2016-04-06 19:39:40</td>\n",
       "      <td>1</td>\n",
       "      <td>-74.010040</td>\n",
       "      <td>40.719971</td>\n",
       "      <td>-74.012268</td>\n",
       "      <td>40.706718</td>\n",
       "      <td>N</td>\n",
       "      <td>429</td>\n",
       "      <td>0.013252</td>\n",
       "      <td>0.002228</td>\n",
       "    </tr>\n",
       "    <tr>\n",
       "      <th>4</th>\n",
       "      <td>id2181028</td>\n",
       "      <td>2</td>\n",
       "      <td>2016-03-26 13:30:55</td>\n",
       "      <td>2016-03-26 13:38:10</td>\n",
       "      <td>1</td>\n",
       "      <td>-73.973053</td>\n",
       "      <td>40.793209</td>\n",
       "      <td>-73.972923</td>\n",
       "      <td>40.782520</td>\n",
       "      <td>N</td>\n",
       "      <td>435</td>\n",
       "      <td>0.010689</td>\n",
       "      <td>0.000130</td>\n",
       "    </tr>\n",
       "  </tbody>\n",
       "</table>\n",
       "</div>"
      ],
      "text/plain": [
       "          id  vendor_id      pickup_datetime     dropoff_datetime  \\\n",
       "0  id2875421          2  2016-03-14 17:24:55  2016-03-14 17:32:30   \n",
       "1  id2377394          1  2016-06-12 00:43:35  2016-06-12 00:54:38   \n",
       "2  id3858529          2  2016-01-19 11:35:24  2016-01-19 12:10:48   \n",
       "3  id3504673          2  2016-04-06 19:32:31  2016-04-06 19:39:40   \n",
       "4  id2181028          2  2016-03-26 13:30:55  2016-03-26 13:38:10   \n",
       "\n",
       "   passenger_count  pickup_longitude  pickup_latitude  dropoff_longitude  \\\n",
       "0                1        -73.982155        40.767937         -73.964630   \n",
       "1                1        -73.980415        40.738564         -73.999481   \n",
       "2                1        -73.979027        40.763939         -74.005333   \n",
       "3                1        -74.010040        40.719971         -74.012268   \n",
       "4                1        -73.973053        40.793209         -73.972923   \n",
       "\n",
       "   dropoff_latitude store_and_fwd_flag  trip_duration  diff_latitude  \\\n",
       "0         40.765602                  N            455       0.002335   \n",
       "1         40.731152                  N            663       0.007412   \n",
       "2         40.710087                  N           2124       0.053852   \n",
       "3         40.706718                  N            429       0.013252   \n",
       "4         40.782520                  N            435       0.010689   \n",
       "\n",
       "   diff_longitude  \n",
       "0        0.017525  \n",
       "1        0.019066  \n",
       "2        0.026306  \n",
       "3        0.002228  \n",
       "4        0.000130  "
      ]
     },
     "execution_count": 32,
     "metadata": {},
     "output_type": "execute_result"
    }
   ],
   "source": [
    "train_Y = np.array(df_train['trip_duration'])\n",
    "ids= df_test['id']\n",
    "df_both = pd.concat([df_train,df_test])\n",
    "\n",
    "df_train['diff_latitude'] = (df_train['dropoff_latitude'] - df_train['pickup_latitude']).abs()\n",
    "df_train['diff_longitude'] = (df_train['dropoff_longitude'] - df_train['pickup_longitude']).abs()\n",
    "\n",
    "df_test['diff_latitude'] = (df_test['dropoff_latitude'] - df_test['pickup_latitude']).abs()\n",
    "df_test['diff_longitude'] = (df_test['dropoff_latitude'] - df_test['pickup_longitude']).abs()\n",
    "\n",
    "var = ['id', 'vendor_id', 'pickup_datetime', 'dropoff_datetime', 'passenger_count', 'pickup_longitude', 'pickup_latitude', 'dropoff_longitude', 'dropoff_latitude', 'store_and_fwd_flag', 'trip_duration', 'diff_latitude', 'diff_longitude',]\n",
    "\n",
    "df_train.head()"
   ]
  },
  {
   "cell_type": "markdown",
   "id": "7c52460c",
   "metadata": {},
   "source": [
    "# Seperated the train and test sets, compared the differences in order to see the correlation\n"
   ]
  },
  {
   "cell_type": "code",
   "execution_count": 34,
   "id": "febc020f",
   "metadata": {},
   "outputs": [
    {
     "data": {
      "image/png": "[encoded data removed]",
      "text/plain": [
       "<Figure size 1080x360 with 1 Axes>"
      ]
     },
     "metadata": {
      "needs_background": "light"
     },
     "output_type": "display_data"
    },
    {
     "data": {
      "image/png": "[encoded data removed]",
      "text/plain": [
       "<Figure size 1080x360 with 1 Axes>"
      ]
     },
     "metadata": {
      "needs_background": "light"
     },
     "output_type": "display_data"
    },
    {
     "data": {
      "image/png": "[encoded data removed]",
      "text/plain": [
       "<Figure size 1080x360 with 1 Axes>"
      ]
     },
     "metadata": {
      "needs_background": "light"
     },
     "output_type": "display_data"
    },
    {
     "data": {
      "image/png": "[encoded data removed]",
      "text/plain": [
       "<Figure size 1080x360 with 1 Axes>"
      ]
     },
     "metadata": {
      "needs_background": "light"
     },
     "output_type": "display_data"
    },
    {
     "data": {
      "image/png": "[encoded data removed]",
      "text/plain": [
       "<Figure size 1080x360 with 1 Axes>"
      ]
     },
     "metadata": {
      "needs_background": "light"
     },
     "output_type": "display_data"
    }
   ],
   "source": [
    "for variable in var[5:9] + [var[10]]:\n",
    "    plt.figure(figsize=(15, 5))\n",
    "    plt.hist(np.array(df_train[variable]), bins=100, range=(-100, 100), color=\"red\", label=\"Training Set\", density=1, stacked=True)\n",
    "    plt.title(variable)\n",
    "    plt.legend(loc='upper right')\n",
    "    plt.show()"
   ]
  },
  {
   "cell_type": "markdown",
   "id": "34afa07a",
   "metadata": {},
   "source": [
    "# From diff_longitude and diff_latitude, we are know plotting the visualization of the difference \n"
   ]
  },
  {
   "cell_type": "code",
   "execution_count": 39,
   "id": "2446a0ad",
   "metadata": {},
   "outputs": [
    {
     "data": {
      "image/png": "[encoded data removed]",
      "text/plain": [
       "<Figure size 1080x360 with 1 Axes>"
      ]
     },
     "metadata": {
      "needs_background": "light"
     },
     "output_type": "display_data"
    }
   ],
   "source": [
    "#Downsampling as the original sample contained too many datapoints that causes visualizations clumping \n",
    "#Sample size is large enough to still represent the sample \n",
    "\n",
    "sample_size = 100000\n",
    "df_sample = df_train.sample(sample_size)\n",
    "\n",
    "plt.figure(figsize=(15, 5))\n",
    "plt.scatter(df_sample['diff_latitude'], df_sample['diff_longitude'], color=\"red\", alpha=0.3, s=20)\n",
    "\n",
    "plt.title(\"Distance Difference of Latitude and Longitude\")\n",
    "plt.xlabel(\"Latitude\")\n",
    "plt.ylabel(\"Longitude\")\n",
    "\n",
    "plt.show()\n"
   ]
  },
  {
   "cell_type": "markdown",
   "id": "3574c751",
   "metadata": {},
   "source": [
    "# Prediction Model using Linear Regression Model"
   ]
  },
  {
   "cell_type": "code",
   "execution_count": 42,
   "id": "79c8e681",
   "metadata": {},
   "outputs": [],
   "source": [
    "df_train_no_outliers['diff_latitude'] = (df_train_no_outliers['dropoff_latitude'] - df_train_no_outliers['pickup_latitude']).abs()\n",
    "df_train_no_outliers['diff_longitude'] = (df_train_no_outliers['dropoff_longitude'] - df_train_no_outliers['pickup_longitude']).abs()\n",
    "\n",
    "# Continue with the rest of your code\n",
    "\n",
    "features = ['diff_latitude', 'diff_longitude']\n",
    "\n",
    "# Split the data into training and testing sets\n",
    "X_train, X_test, y_train, y_test = train_test_split(df_train_no_outliers[features], df_train_no_outliers['trip_duration'], test_size=0.2, random_state=42)\n",
    "\n",
    "# Standardize the features\n",
    "scaler = StandardScaler()\n",
    "X_train_scaled = scaler.fit_transform(X_train)\n",
    "X_test_scaled = scaler.transform(X_test)\n",
    "\n",
    "# Create and train the linear regression model\n",
    "model = LinearRegression()\n",
    "model.fit(X_train_scaled, y_train)\n",
    "\n",
    "# Make predictions on the test set\n",
    "pred = model.predict(X_test_scaled)\n",
    "\n",
    "# Adjust the predictions to fit within the range of trip durations in the training set\n",
    "min_trip_duration_train = df_train_no_outliers['trip_duration'].min()\n",
    "max_trip_duration_train = df_train_no_outliers['trip_duration'].max()\n",
    "scaled_pred = (pred - pred.min()) / (pred.max() - pred.min())\n",
    "scaled_pred = scaled_pred * (max_trip_duration_train - min_trip_duration_train) + min_trip_duration_train\n",
    "\n",
    "# Scale the features of the test set\n",
    "X_test_scaled_final = scaler.transform(df_test[features])\n",
    "\n",
    "# Make predictions on the test set and adjust based on the range of trip durations in the training set\n",
    "pred_test = model.predict(X_test_scaled_final)\n",
    "scaled_pred_test = (pred_test - pred_test.min()) / (pred_test.max() - pred_test.min())\n",
    "scaled_pred_test = scaled_pred_test * (max_trip_duration_train - min_trip_duration_train) + min_trip_duration_train\n",
    "\n",
    "# Create a DataFrame with 'id' and adjusted predicted 'trip_duration'\n",
    "sub = pd.DataFrame({'id': df_test['id'], 'trip_duration': scaled_pred_test})"
   ]
  },
  {
   "cell_type": "markdown",
   "id": "ae07ebb3",
   "metadata": {},
   "source": [
    "# Printing Adjust Predictions DataFram and Linear Regression Model "
   ]
  },
  {
   "cell_type": "code",
   "execution_count": 43,
   "id": "04b9fd3a",
   "metadata": {},
   "outputs": [
    {
     "name": "stdout",
     "output_type": "stream",
     "text": [
      "Adjusted Predictions:\n",
      "          id  trip_duration\n",
      "0  id3004672     171.400119\n",
      "1  id3505355     165.999606\n",
      "2  id1217141     169.829462\n",
      "3  id2150126     169.698459\n",
      "4  id1598245     169.673065\n",
      "\n",
      "Linear Regression Model Coefficients:\n",
      "Coefficients: [148.10667376 159.48939471]\n",
      "Intercept: 731.919070118524\n"
     ]
    }
   ],
   "source": [
    "print(\"Adjusted Predictions:\")\n",
    "print(sub.head())\n",
    "\n",
    "print(\"\\nLinear Regression Model Coefficients:\")\n",
    "print(\"Coefficients:\", model.coef_)\n",
    "print(\"Intercept:\", model.intercept_)\n"
   ]
  },
  {
   "cell_type": "markdown",
   "id": "8cdee7ff",
   "metadata": {},
   "source": [
    "# Printing Predicted Trip Duration According to ID"
   ]
  },
  {
   "cell_type": "code",
   "execution_count": 44,
   "id": "e4c4d1f5",
   "metadata": {},
   "outputs": [
    {
     "name": "stdout",
     "output_type": "stream",
     "text": [
      "               id  trip_duration\n",
      "0       id3004672     171.400119\n",
      "1       id3505355     165.999606\n",
      "2       id1217141     169.829462\n",
      "3       id2150126     169.698459\n",
      "4       id1598245     169.673065\n",
      "...           ...            ...\n",
      "625129  id3008929     170.289939\n",
      "625130  id3700764     173.975672\n",
      "625131  id2568735     169.721237\n",
      "625132  id1384355     183.174172\n",
      "625133  id0621643     173.021704\n",
      "\n",
      "[625134 rows x 2 columns]\n"
     ]
    }
   ],
   "source": [
    "print(sub)"
   ]
  },
  {
   "cell_type": "markdown",
   "id": "6a24e7cb",
   "metadata": {},
   "source": [
    "# Scatterplot of Actual vs Adjusted Predicted Trip Durations\n"
   ]
  },
  {
   "cell_type": "code",
   "execution_count": 45,
   "id": "1b73d27b",
   "metadata": {},
   "outputs": [
    {
     "data": {
      "image/png": "[encoded data removed]",
      "text/plain": [
       "<Figure size 1080x360 with 1 Axes>"
      ]
     },
     "metadata": {
      "needs_background": "light"
     },
     "output_type": "display_data"
    }
   ],
   "source": [
    "plt.figure(figsize=(15, 5))\n",
    "plt.scatter(y_test, model.predict(X_test_scaled), color='red', label='Actual vs Predicted', alpha=0.5)\n",
    "plt.title('Actual vs Adjusted Predicted Trip Durations')\n",
    "plt.xlabel('Actual Trip Duration')\n",
    "plt.ylabel('Adjusted Predicted Trip Duration')\n",
    "plt.legend()\n",
    "plt.show()"
   ]
  },
  {
   "cell_type": "markdown",
   "id": "42ce6339",
   "metadata": {},
   "source": [
    "# Evaluation Metric:\n",
    "# Root Mean Squared Logarithmic Error "
   ]
  },
  {
   "cell_type": "code",
   "execution_count": 55,
   "id": "642544b0",
   "metadata": {},
   "outputs": [
    {
     "name": "stdout",
     "output_type": "stream",
     "text": [
      "Root Mean Squared Error (RMSE): 844.328476416486\n"
     ]
    }
   ],
   "source": [
    "rmse = np.sqrt(mean_squared_error(y_test, scaled_pred))\n",
    "print(f'Root Mean Squared Error (RMSE): {rmse}')"
   ]
  },
  {
   "cell_type": "markdown",
   "id": "45732796",
   "metadata": {},
   "source": [
    "# Percantage of Perdictability "
   ]
  },
  {
   "cell_type": "code",
   "execution_count": 63,
   "id": "f8205981",
   "metadata": {},
   "outputs": [
    {
     "name": "stdout",
     "output_type": "stream",
     "text": [
      "Percentage of predictions within 10% error: 15.638622532820484%\n"
     ]
    }
   ],
   "source": [
    "y_pred = model.predict(X_test_scaled)\n",
    "percentage_tolerance = 10\n",
    "percentage_within_tolerance = np.mean(np.abs(y_pred - y_test) / y_test * 100 <= percentage_tolerance)\n",
    "\n",
    "print(f'Percentage of predictions within {percentage_tolerance}% error: {percentage_within_tolerance * 100}%')\n"
   ]
  }
 ],
 "metadata": {
  "kernelspec": {
   "display_name": "Python 3 (ipykernel)",
   "language": "python",
   "name": "python3"
  },
  "language_info": {
   "codemirror_mode": {
    "name": "ipython",
    "version": 3
   },
   "file_extension": ".py",
   "mimetype": "text/x-python",
   "name": "python",
   "nbconvert_exporter": "python",
   "pygments_lexer": "ipython3",
   "version": "3.9.12"
  }
 },
 "nbformat": 4,
 "nbformat_minor": 5
}
